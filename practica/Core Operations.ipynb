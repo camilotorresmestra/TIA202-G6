{
 "cells": [
  {
   "cell_type": "code",
   "execution_count": 53,
   "metadata": {},
   "outputs": [
    {
     "name": "stdout",
     "output_type": "stream",
     "text": [
      "(554, 980, 3)\n"
     ]
    }
   ],
   "source": [
    "import cv2\n",
    "import matplotlib as plt\n",
    "import numpy as np\n",
    "import time\n",
    "\n",
    "img = cv2.imread('pics/messi.jpg',1)\n",
    "print(img.shape)"
   ]
  },
  {
   "cell_type": "code",
   "execution_count": 54,
   "metadata": {},
   "outputs": [],
   "source": [
    "mouth=img[150:250,400:500]\n",
    "img[273:373,100:200]=mouth\n",
    "cv2.imshow('img',img)\n",
    "k=cv2.waitKey(0)\n",
    "cv2.destroyAllWindows()"
   ]
  },
  {
   "cell_type": "code",
   "execution_count": 55,
   "metadata": {},
   "outputs": [],
   "source": [
    "cv2.imshow('img',img)\n",
    "k=cv2.waitKey(0)\n",
    "#using numpy indexing tu turn red channel to zero\n",
    "img[:,:,2] = 255\n",
    "cv2.imshow('img',img)\n",
    "k=cv2.waitKey(0)\n",
    "cv2.destroyAllWindows()"
   ]
  },
  {
   "cell_type": "code",
   "execution_count": 56,
   "metadata": {},
   "outputs": [],
   "source": [
    "GREEN=[0, 255, 0]\n",
    "constant_border = cv2.copyMakeBorder(mouth,10,10,10,10,cv2.BORDER_CONSTANT,value=GREEN)\n",
    "img[263:383,90:210]=constant_border\n",
    "cv2.imshow('img',img)\n",
    "k=cv2.waitKey(0)\n",
    "cv2.destroyAllWindows()"
   ]
  },
  {
   "cell_type": "markdown",
   "metadata": {},
   "source": [
    "# Arithmetic Operations on Images"
   ]
  },
  {
   "cell_type": "markdown",
   "metadata": {},
   "source": [
    "## Resize"
   ]
  },
  {
   "cell_type": "code",
   "execution_count": 57,
   "metadata": {},
   "outputs": [],
   "source": [
    "img2 = cv2.imread('pics/tapabocas.jpg')\n",
    "cv2.imshow('img',img2)\n",
    "k=cv2.waitKey(0)\n",
    "cv2.destroyAllWindows()"
   ]
  },
  {
   "cell_type": "code",
   "execution_count": 89,
   "metadata": {},
   "outputs": [
    {
     "name": "stdout",
     "output_type": "stream",
     "text": [
      "Original Dimensions :  (800, 800, 3)\n",
      "Resized Dimensions :  (100, 100, 3)\n"
     ]
    }
   ],
   "source": [
    "print('Original Dimensions : ',img2.shape)\n",
    " \n",
    "scale_percent = 20 # percent of original size\n",
    "width = int(mouth.shape[1])\n",
    "height = int(mouth.shape[0])\n",
    "dim = (width, height)\n",
    "# resize image\n",
    "resized = cv2.resize(img2, dim, interpolation = cv2.INTER_NEAREST)\n",
    "print('Resized Dimensions : ',resized.shape)\n",
    "cv2.imshow('img',resized)\n",
    "k=cv2.waitKey(0)\n",
    "cv2.destroyAllWindows()\n"
   ]
  },
  {
   "cell_type": "code",
   "execution_count": 76,
   "metadata": {},
   "outputs": [
    {
     "name": "stdout",
     "output_type": "stream",
     "text": [
      "(554, 980, 3)\n"
     ]
    }
   ],
   "source": [
    "img3=img.copy()\n",
    "img3[:,:,:]=0\n",
    "print(img3.shape)\n",
    "img3[150:310, 400:560]=resized.copy()\n",
    "cv2.imshow('img',img3)\n",
    "k=cv2.waitKey(0)\n",
    "cv2.destroyAllWindows()"
   ]
  },
  {
   "cell_type": "markdown",
   "metadata": {},
   "source": [
    "## Image addition"
   ]
  },
  {
   "cell_type": "code",
   "execution_count": 78,
   "metadata": {},
   "outputs": [],
   "source": [
    "dst = cv2.addWeighted(img,0.7,img3,1,0)\n",
    "cv2.imshow('dst',dst)\n",
    "cv2.waitKey(0)\n",
    "cv2.destroyAllWindows()"
   ]
  },
  {
   "cell_type": "markdown",
   "metadata": {},
   "source": [
    "## BitWise Operations"
   ]
  },
  {
   "cell_type": "code",
   "execution_count": 96,
   "metadata": {},
   "outputs": [],
   "source": [
    "\n",
    "img3gray=cv2.cvtColor(resized,cv2.COLOR_BGR2GRAY)\n",
    "ret, mask= cv2.threshold(img3gray, 100, 128, cv2.THRESH_BINARY)\n",
    "mask_inv= cv2.bitwise_not(mask)\n",
    "\n",
    "#Aplicando la primera mascara:\n",
    "img_bg = cv2.bitwise_and(mouth,mouth, mask = mask_inv)\n",
    "cv2.imshow('dst',mask_inv)\n",
    "cv2.waitKey(0)\n",
    "cv2.destroyAllWindows()"
   ]
  },
  {
   "cell_type": "code",
   "execution_count": 99,
   "metadata": {},
   "outputs": [
    {
     "ename": "TypeError",
     "evalue": "calcHist() missing required argument 'mask' (pos 3)",
     "output_type": "error",
     "traceback": [
      "\u001b[1;31m---------------------------------------------------------------------------\u001b[0m",
      "\u001b[1;31mTypeError\u001b[0m                                 Traceback (most recent call last)",
      "\u001b[1;32m<ipython-input-99-7cd5afb6615e>\u001b[0m in \u001b[0;36m<module>\u001b[1;34m\u001b[0m\n\u001b[1;32m----> 1\u001b[1;33m \u001b[0mhist\u001b[0m\u001b[1;33m=\u001b[0m\u001b[0mcv2\u001b[0m\u001b[1;33m.\u001b[0m\u001b[0mcalcHist\u001b[0m\u001b[1;33m(\u001b[0m\u001b[0mresized\u001b[0m\u001b[1;33m,\u001b[0m\u001b[1;36m1\u001b[0m\u001b[1;33m)\u001b[0m\u001b[1;33m\u001b[0m\u001b[1;33m\u001b[0m\u001b[0m\n\u001b[0m",
      "\u001b[1;31mTypeError\u001b[0m: calcHist() missing required argument 'mask' (pos 3)"
     ]
    }
   ],
   "source": [
    "hist=cv2.calcHist(resized,1)"
   ]
  }
 ],
 "metadata": {
  "kernelspec": {
   "display_name": "Python 3",
   "language": "python",
   "name": "python3"
  },
  "language_info": {
   "codemirror_mode": {
    "name": "ipython",
    "version": 3
   },
   "file_extension": ".py",
   "mimetype": "text/x-python",
   "name": "python",
   "nbconvert_exporter": "python",
   "pygments_lexer": "ipython3",
   "version": "3.8.3"
  }
 },
 "nbformat": 4,
 "nbformat_minor": 4
}
